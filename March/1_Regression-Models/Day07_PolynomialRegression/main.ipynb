{
 "cells": [
  {
   "cell_type": "code",
   "execution_count": 2,
   "metadata": {},
   "outputs": [
    {
     "name": "stdout",
     "output_type": "stream",
     "text": []
    }
   ],
   "source": [
    "# Getting Data\n",
    "from sys import path\n",
    "path.append('../..')\n",
    "from getTrainingData import getData\n",
    "\n",
    "trainingData, testingData = getData()\n",
    "trainingData"
   ]
  },
  {
   "cell_type": "markdown",
   "metadata": {},
   "source": [
    "# Polynominal Regression"
   ]
  },
  {
   "cell_type": "code",
   "execution_count": 3,
   "metadata": {},
   "outputs": [
    {
     "name": "stdout",
     "output_type": "stream",
     "text": []
    }
   ],
   "source": [
    "from sklearn.metrics import r2_score\n",
    "import matplotlib.pyplot as plt\n",
    "import numpy as np\n",
    "\n",
    "# Define target (dependent) variable\n",
    "y_train = trainingData['product_price']\n",
    "y_test = testingData['product_price']\n",
    "\n",
    "# Define features (independent variables) - all columns except product_price\n",
    "X_train = trainingData.drop('product_price', axis=1)\n",
    "X_test = testingData.drop('product_price', axis=1)\n",
    "X_test"
   ]
  },
  {
   "cell_type": "markdown",
   "metadata": {},
   "source": [
    "## Creating and training the Model"
   ]
  },
  {
   "cell_type": "code",
   "execution_count": 4,
   "metadata": {},
   "outputs": [
    {
     "name": "stdout",
     "output_type": "stream",
     "text": []
    },
    {
     "name": "stdout",
     "output_type": "stream",
     "text": []
    }
   ],
   "source": [
    "from sklearn.decomposition import PCA\n",
    "\n",
    "# Reduce features to 1D using Principal Component Analysis\n",
    "# Using 2 components to capture more variance\n",
    "pca = PCA(n_components=2)\n",
    "X_train_pca = pca.fit_transform(X_train)\n",
    "X_test_pca = pca.transform(X_test)\n",
    "\n",
    "# Print explained variance ratio to see how much information is retained\n",
    "print(f\"Explained variance ratio: {pca.explained_variance_ratio_}\")\n",
    "print(f\"Total variance explained: {sum(pca.explained_variance_ratio_):.2f}\")\n",
    "\n",
    "# Use the first principal component for the polynomial fit\n",
    "condensedXTrain = X_train_pca[:, 0]\n",
    "condensedXTest = X_test_pca[:, 0]\n",
    "\n",
    "# Try a lower degree polynomial (degree 3 is often good for non-linear patterns)\n",
    "poly_degree = 3\n",
    "preg = np.poly1d(np.polyfit(condensedXTrain, y_train, poly_degree))\n",
    "\n",
    "# Make predictions for plotting in the next cell\n",
    "y_predictions = preg(condensedXTest)\n",
    "y_predictions"
   ]
  },
  {
   "cell_type": "markdown",
   "metadata": {},
   "source": [
    "## Plotting Predictions"
   ]
  },
  {
   "cell_type": "code",
   "execution_count": 5,
   "metadata": {},
   "outputs": [
    {
     "name": "stdout",
     "output_type": "stream",
     "text": []
    },
    {
     "name": "stdout",
     "output_type": "stream",
     "text": []
    }
   ],
   "source": [
    "plt.figure(figsize=(15, 10))\n",
    "\n",
    "# Plot 1: Scatter plot of actual vs predicted (evaluation plot)\n",
    "plt.subplot(2, 2, 1)\n",
    "plt.scatter(y_test, y_predictions, color='b', alpha=0.7)\n",
    "plt.plot([y_test.min(), y_test.max()], [y_test.min(), y_test.max()], color='k', linestyle='--')\n",
    "plt.xlabel('Actual Price')\n",
    "plt.ylabel('Predicted Price')\n",
    "plt.title('Actual vs Predicted Prices')\n",
    "\n",
    "# Plot 2: Polynomial curve fit visualization\n",
    "plt.subplot(2, 2, 2)\n",
    "# Sort the points for a smooth curve plot\n",
    "sort_idx = np.argsort(condensedXTest)\n",
    "x_sorted = condensedXTest[sort_idx]\n",
    "y_actual_sorted = np.array(y_test)[sort_idx]\n",
    "y_pred_sorted = y_predictions[sort_idx]\n",
    "\n",
    "# Create smooth curve for visualization\n",
    "x_curve = np.linspace(min(condensedXTest), max(condensedXTest), 100)\n",
    "y_curve = preg(x_curve)\n",
    "\n",
    "plt.scatter(condensedXTest, y_test, color='b', s=30, alpha=0.5, label='Actual data')\n",
    "plt.plot(x_curve, y_curve, color='r', linewidth=2, label=f'Polynomial fit (degree {poly_degree})')\n",
    "plt.xlabel('Condensed Feature (PCA)')\n",
    "plt.ylabel('Price')\n",
    "plt.title('Polynomial Regression Fit')\n",
    "plt.legend()\n",
    "\n",
    "# Plot 3: Visualization in 2D PCA space with color representing price\n",
    "plt.subplot(2, 2, 3)\n",
    "sc = plt.scatter(X_test_pca[:, 0], X_test_pca[:, 1], c=y_test, cmap='viridis', alpha=0.7)\n",
    "plt.colorbar(sc, label='Price')\n",
    "plt.xlabel('PCA Component 1')\n",
    "plt.ylabel('PCA Component 2')\n",
    "plt.title('Data Distribution in PCA Space')\n",
    "\n",
    "# Plot 4: Prediction errors\n",
    "plt.subplot(2, 2, 4)\n",
    "errors = y_test - y_predictions\n",
    "plt.hist(errors, bins=20, color='skyblue', edgecolor='black')\n",
    "plt.axvline(x=0, color='r', linestyle='--')\n",
    "plt.xlabel('Prediction Error')\n",
    "plt.ylabel('Frequency')\n",
    "plt.title('Distribution of Prediction Errors')\n",
    "\n",
    "plt.tight_layout()\n",
    "plt.show()\n",
    "\n",
    "# Print the R² score to evaluate model accuracy\n",
    "r2 = r2_score(y_test, y_predictions)\n",
    "print(f\"R² Score: {r2:.4f}\")\n",
    "\n",
    "# Calculate MAE and RMSE for additional evaluation metrics\n",
    "from sklearn.metrics import mean_absolute_error, mean_squared_error\n",
    "mae = mean_absolute_error(y_test, y_predictions)\n",
    "rmse = np.sqrt(mean_squared_error(y_test, y_predictions))\n",
    "print(f\"Mean Absolute Error: {mae:.2f}\")\n",
    "print(f\"Root Mean Squared Error: {rmse:.2f}\")"
   ]
  },
  {
   "cell_type": "markdown",
   "metadata": {},
   "source": [
    "# Conclusion\n",
    "Polynominal Regression is performing even worse for our application"
   ]
  }
 ],
 "metadata": {
  "kernelspec": {
   "display_name": "Python 3",
   "language": "python",
   "name": "python3"
  },
  "language_info": {
   "codemirror_mode": {
    "name": "ipython",
    "version": 3
   },
   "file_extension": ".py",
   "mimetype": "text/x-python",
   "name": "python",
   "nbconvert_exporter": "python",
   "pygments_lexer": "ipython3",
   "version": "3.12.1"
  }
 },
 "nbformat": 4,
 "nbformat_minor": 2
}
