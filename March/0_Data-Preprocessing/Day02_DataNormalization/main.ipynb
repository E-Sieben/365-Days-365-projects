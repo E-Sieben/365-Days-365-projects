{
 "cells": [
  {
   "cell_type": "code",
   "execution_count": null,
   "metadata": {},
   "outputs": [
    {
     "name": "stdout",
     "output_type": "stream",
     "text": []
    }
   ],
   "source": [
    "from sys import path\n",
    "path.append('../..')\n",
    "from getData import getProducts\n",
    "\n",
    "def prettyprint(inp: dict[str, str]):\n",
    "    for i in inp:\n",
    "        print(f\"ID: {i[\"product_id\"]} Name: {i[\"product_name\"]}\")\n",
    "        print(f\"CategoryID: {i[\"category_id\"]} Category: {i[\"category_name\"]}\")\n",
    "        print(f\"Price: {i[\"product_price\"]} €\")\n",
    "        print(\"-----\")\n",
    "\n",
    "def normalizeData():\n",
    "    products = getProducts()\n",
    "    justProducts = []\n",
    "    categories = list(products.keys())\n",
    "    category_to_id = {category: idx for idx, category in enumerate(categories)}\n",
    "    \n",
    "    for category in products:\n",
    "        category_id = category_to_id[category]\n",
    "        for name, price in products[category]:\n",
    "            justProducts.append((category, category_id, name, price))\n",
    "    \n",
    "    normalizedProducts = []\n",
    "    for i in range(len(justProducts)):\n",
    "        normalizedProducts.append({\n",
    "            \"product_id\": i,                      \n",
    "            \"category_name\": justProducts[i][0],     \n",
    "            \"category_id\": justProducts[i][1],     \n",
    "            \"product_name\": justProducts[i][2],     \n",
    "            \"product_price\": justProducts[i][3]      \n",
    "        })\n",
    "    \n",
    "    prettyprint(normalizedProducts)\n",
    "\n",
    "normalizeData()"
   ]
  }
 ],
 "metadata": {
  "kernelspec": {
   "display_name": "Python 3",
   "language": "python",
   "name": "python3"
  },
  "language_info": {
   "codemirror_mode": {
    "name": "ipython",
    "version": 3
   },
   "file_extension": ".py",
   "mimetype": "text/x-python",
   "name": "python",
   "nbconvert_exporter": "python",
   "pygments_lexer": "ipython3",
   "version": "3.12.1"
  }
 },
 "nbformat": 4,
 "nbformat_minor": 2
}
