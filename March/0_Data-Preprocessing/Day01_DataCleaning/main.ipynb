{
 "cells": [
  {
   "cell_type": "code",
   "execution_count": 15,
   "metadata": {},
   "outputs": [
    {
     "name": "stdout",
     "output_type": "stream",
     "text": []
    }
   ],
   "source": [
    "from sklearn import impute\n",
    "import numpy as np\n",
    "from sys import path\n",
    "path.append('../..')\n",
    "from getData import getProducts\n",
    "\n",
    "def cleanData():\n",
    "    products = getProducts()\n",
    "    justProducts = []\n",
    "    for category in products:\n",
    "        for name, price in products[category]:\n",
    "            justProducts.append((category, name, price))\n",
    "\n",
    "    prices = np.array([price for _, _, price in justProducts if price is not None])\n",
    "    prices = prices.reshape(-1, 1)\n",
    "    imputer = impute.KNNImputer(n_neighbors=min(5, len(prices)))\n",
    "    \n",
    "    cleanedProducts = []\n",
    "    for category, name, price in justProducts:\n",
    "        if price is None:\n",
    "            imputed_price = imputer.fit_transform([[np.nan]])[0][0]\n",
    "            cleanedProducts.append((category, name, imputed_price))\n",
    "        else:\n",
    "            cleanedProducts.append((category, name, price))\n",
    "    \n",
    "    print(cleanedProducts)\n",
    "\n",
    "cleanData()\n"
   ]
  }
 ],
 "metadata": {
  "kernelspec": {
   "display_name": "Python 3",
   "language": "python",
   "name": "python3"
  },
  "language_info": {
   "codemirror_mode": {
    "name": "ipython",
    "version": 3
   },
   "file_extension": ".py",
   "mimetype": "text/x-python",
   "name": "python",
   "nbconvert_exporter": "python",
   "pygments_lexer": "ipython3",
   "version": "3.12.1"
  }
 },
 "nbformat": 4,
 "nbformat_minor": 2
}
