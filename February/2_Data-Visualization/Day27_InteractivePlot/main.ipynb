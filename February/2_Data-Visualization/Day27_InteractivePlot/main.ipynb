{
 "cells": [
  {
   "cell_type": "code",
   "execution_count": null,
   "metadata": {},
   "outputs": [
    {
     "data": {
      "application/vnd.jupyter.widget-view+json": {
       "model_id": "886ce181100b4f9f8f49c0ae309dcf77",
       "version_major": 2,
       "version_minor": 0
      },
      "text/plain": [
       "interactive(children=(FloatSlider(value=100.0, continuous_update=False, description='Max Price:', max=200.0, m…"
      ]
     },
     "execution_count": 16,
     "metadata": {},
     "output_type": "execute_result"
    }
   ],
   "source": [
    "import sys\n",
    "sys.path.append(\"..\")\n",
    "from getData import getProducts\n",
    "import matplotlib.pyplot as plt\n",
    "import ipywidgets as widgets\n",
    "\n",
    "def plotProducts(max_price=200):\n",
    "    \n",
    "    products = getProducts()\n",
    "    all_products = []\n",
    "    labels = []\n",
    "    \n",
    "    for category_name, category in products.items():\n",
    "        prices = []\n",
    "        for _, price in category:\n",
    "            if price <= max_price:\n",
    "                prices.append(price)\n",
    "        if prices:\n",
    "            all_products.append(prices)\n",
    "            labels.append(category_name)\n",
    "    \n",
    "    plt.boxplot(all_products, vert=False)\n",
    "    plt.yticks(range(1, len(labels) + 1), labels)\n",
    "    plt.xlabel(\"Price (in €)\")\n",
    "    plt.title(f\"Product Prices (Max: ${max_price :0.0f})\")\n",
    "    plt.show()\n",
    "\n",
    "\n",
    "max_price_slider = widgets.FloatSlider(\n",
    "    value=100,\n",
    "    min=10,\n",
    "    max=200,\n",
    "    step=10,\n",
    "    description=\"Max Price:\",\n",
    "    disabled=False,\n",
    "    continuous_update=False,\n",
    "    orientation=\"horizontal\",\n",
    "    readout=True,\n",
    "    readout_format=\"$0.2f\"\n",
    ")\n",
    "\n",
    "widgets.interactive(plotProducts, max_price=max_price_slider)\n"
   ]
  }
 ],
 "metadata": {
  "kernelspec": {
   "display_name": "Python 3",
   "language": "python",
   "name": "python3"
  },
  "language_info": {
   "codemirror_mode": {
    "name": "ipython",
    "version": 3
   },
   "file_extension": ".py",
   "mimetype": "text/x-python",
   "name": "python",
   "nbconvert_exporter": "python",
   "pygments_lexer": "ipython3",
   "version": "3.12.1"
  }
 },
 "nbformat": 4,
 "nbformat_minor": 2
}
